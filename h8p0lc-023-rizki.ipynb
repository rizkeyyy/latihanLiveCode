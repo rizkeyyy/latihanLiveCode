{
 "cells": [
  {
   "cell_type": "markdown",
   "metadata": {},
   "source": [
    "# live code"
   ]
  },
  {
   "cell_type": "code",
   "execution_count": null,
   "metadata": {},
   "outputs": [],
   "source": [
    "#buat simpan data barang\n",
    "data = []\n",
    "\n",
    "#func buat menambahkan barang\n",
    "def tambahBarang():\n",
    "  nama = input(\"Masukan Nama Barang :\" )\n",
    "  kategori = input(\"Mauskan Kategori Barang :\" )\n",
    "  harga = input(\"Mauskan Harga Barang :\") \n",
    "\n",
    "#nambah daata ke list\n",
    "  data.append([nama, kategori, harga])\n",
    "  print(\"Barang berhasil ditambahkan cuy!\")\n",
    "\n",
    "#func buat nampilin seluruh data barang yang ada di inven\n",
    "def tampilkanInventori():\n",
    "    if not data:  # Cek jika data kosong\n",
    "        print(\"\\nData Inventory\")\n",
    "        print(\"Data belum tersedia, silahkan pilih menu 1 untuk isi data\\n\")\n",
    "    else:\n",
    "        print(\"\\nData Inventory\")\n",
    "        for barang in data:\n",
    "            print(f\"Nama: {barang[0]}, Kategori: {barang[1]}, Harga: {barang[2]}\")\n",
    "        print()  \n",
    "\n",
    "# func utama untuk menjalankan program stock management\n",
    "def main():\n",
    "    while True:\n",
    "        print(\"Program Inventory Management\")\n",
    "        print(\"=============================\")\n",
    "        print(\"Menu:\")\n",
    "        print(\"1. Input Data\")\n",
    "        print(\"2. Menampilkan data\")\n",
    "        print(\"Ketik 'exit' untuk keluar.\")\n",
    "        \n",
    "        # Menerima input dari user untuk memilih menu\n",
    "        pilihan = input(\"Pilih menu atau keluar: \")#.strip().lower()\n",
    "        \n",
    "        if pilihan == \"1\":\n",
    "            tambahBarang()\n",
    "        elif pilihan == \"2\":\n",
    "            tampilkanInventori()\n",
    "        elif pilihan == \"exit\":\n",
    "            print(\"Terima Kasih, Sampai Jumpa!\")\n",
    "            break\n",
    "        else:\n",
    "            print(\"Data belum tersedia.\\n\")\n",
    "\n",
    "# Memanggil func utama\n",
    "if __name__ == \"__main__\":\n",
    "    main()\n",
    "\n"
   ]
  }
 ],
 "metadata": {
  "kernelspec": {
   "display_name": "Python 3",
   "language": "python",
   "name": "python3"
  },
  "language_info": {
   "name": "python",
   "version": "3.11.6"
  }
 },
 "nbformat": 4,
 "nbformat_minor": 2
}
